{
 "cells": [
  {
   "cell_type": "markdown",
   "id": "90f54fc3-4e66-4bb7-b99f-ed96f30975f0",
   "metadata": {},
   "source": [
    "### LabelEncoder"
   ]
  },
  {
   "cell_type": "code",
   "execution_count": null,
   "id": "d625d3f7-70e8-4422-af53-284eaaf4579b",
   "metadata": {},
   "outputs": [],
   "source": [
    "from sklearn.preprocessing import LabelEncoder\n",
    "\n",
    "pre_m_df = m_df.copy()\n",
    "columns = ['sex', 'smoker']\n",
    "label_encoders = {}\n",
    "\n",
    "for column in columns:\n",
    "    encoder = LabelEncoder()\n",
    "    result = encoder.fit_transform(pre_m_df[column])\n",
    "    label_encoders[column] = encoder.classes_\n",
    "    pre_m_df[column] = result\n",
    "\n",
    "label_encoders"
   ]
  },
  {
   "cell_type": "markdown",
   "id": "2fd19e54-1ef2-4fbb-9cea-40550c921c9a",
   "metadata": {},
   "source": [
    "### OneHotEncoder"
   ]
  },
  {
   "cell_type": "code",
   "execution_count": null,
   "id": "4e0b9752-77fe-4503-90a0-53493cee500c",
   "metadata": {},
   "outputs": [],
   "source": [
    "from sklearn.preprocessing import OneHotEncoder\n",
    "import numpy as np\n",
    "\n",
    "# sparse를 False로 설정하면 넘파이 배열, True는 희소 행렬\n",
    "one_hot_encoder = OneHotEncoder(sparse_output=False)\n",
    "result = one_hot_encoder.fit_transform(pre_m_df[['region']])\n",
    "\n",
    "pre_m_df = pd.concat([pre_m_df, \n",
    "                      pd.DataFrame(result, columns=one_hot_encoder.categories_).astype(np.int8)], \n",
    "                     axis=1)\n",
    "pre_m_df"
   ]
  },
  {
   "cell_type": "code",
   "execution_count": null,
   "id": "3a6fb118-3a32-46a2-9285-2e5b1186b351",
   "metadata": {},
   "outputs": [],
   "source": [
    "pre_m_df = pre_m_df.drop(labels=['region'], axis=1)\n",
    "pre_m_df"
   ]
  },
  {
   "cell_type": "code",
   "execution_count": null,
   "id": "ebe1fd58-d221-49df-9785-a9e2e7411c7d",
   "metadata": {},
   "outputs": [],
   "source": []
  },
  {
   "cell_type": "markdown",
   "id": "ef353d49-a07d-4e5b-a288-d09eb0993989",
   "metadata": {},
   "source": [
    "### StandardScaler"
   ]
  },
  {
   "cell_type": "code",
   "execution_count": null,
   "id": "502b07e9-4803-4f11-a473-16bb7115504a",
   "metadata": {},
   "outputs": [],
   "source": [
    "from sklearn.preprocessing import StandardScaler\n",
    "\n",
    "std = StandardScaler()\n",
    "result = std.fit_transform(pre_df)\n",
    "std_pre_df = pd.DataFrame(result, columns=pre_df.columns)\n",
    "std_pre_df"
   ]
  },
  {
   "cell_type": "code",
   "execution_count": null,
   "id": "e253ed53-5ebf-4a75-b263-50c727df53a2",
   "metadata": {},
   "outputs": [],
   "source": [
    "condition = True\n",
    "\n",
    "for column in std_pre_df.columns:\n",
    "    condition &= std_pre_df[column].between(-1.96, 1.96)\n",
    "\n",
    "std_pre_df = std_pre_df[condition]\n",
    "std_pre_df"
   ]
  },
  {
   "cell_type": "code",
   "execution_count": 2,
   "id": "f099ca51-f57d-41ef-bff3-bf3b1658fdc1",
   "metadata": {},
   "outputs": [],
   "source": [
    "pre_df = pre_df.iloc[std_pre_df.index].reset_index(drop=True)\n",
    "pre_df"
   ]
  },
  {
   "cell_type": "code",
   "execution_count": null,
   "id": "6fe23c90-2787-435a-bd92-80e6952de52f",
   "metadata": {},
   "outputs": [],
   "source": []
  },
  {
   "cell_type": "markdown",
   "id": "5cdd3b42-165c-4f44-bb77-c51782e67443",
   "metadata": {},
   "source": [
    "### feature 중 원하는 값을 가진 row들만 추출"
   ]
  },
  {
   "cell_type": "code",
   "execution_count": null,
   "id": "8a3109c6-9651-42cb-8100-5971fd724014",
   "metadata": {},
   "outputs": [],
   "source": [
    "rows = ['Rice', 'Apple']\n",
    "pre_a_df = pre_df[pre_df['Crop'].isin(rows)]\n",
    "pre_a_df"
   ]
  },
  {
   "cell_type": "code",
   "execution_count": null,
   "id": "bf0c3211-4bb3-4527-9d6c-696449e026ea",
   "metadata": {},
   "outputs": [],
   "source": []
  },
  {
   "cell_type": "markdown",
   "id": "25c98e0f-0f3d-4d66-9eb4-392f993e9142",
   "metadata": {},
   "source": [
    "### log 변환"
   ]
  },
  {
   "cell_type": "code",
   "execution_count": null,
   "id": "55299bcb-2e59-4cf8-ad54-d61cae3af700",
   "metadata": {},
   "outputs": [],
   "source": [
    "import numpy as np\n",
    "\n",
    "np.log1p(pre_df.Yield).hist(figsize=(5, 5))"
   ]
  },
  {
   "cell_type": "code",
   "execution_count": null,
   "id": "bf2a3506-5e07-4ae4-89d3-aeada230cf96",
   "metadata": {},
   "outputs": [],
   "source": [
    "pre_df.Yield = np.log1p(pre_df.Yield)\n",
    "pre_df"
   ]
  },
  {
   "cell_type": "code",
   "execution_count": null,
   "id": "e8ad5d53-fe73-4f55-9733-3aa6acfbcb30",
   "metadata": {},
   "outputs": [],
   "source": []
  },
  {
   "cell_type": "code",
   "execution_count": null,
   "id": "03b3fdfc-96f6-45b5-a13c-7883eb312b72",
   "metadata": {},
   "outputs": [],
   "source": []
  },
  {
   "cell_type": "code",
   "execution_count": null,
   "id": "36c5c08f-69c1-40ad-a620-a5b194622659",
   "metadata": {},
   "outputs": [],
   "source": []
  },
  {
   "cell_type": "markdown",
   "id": "bc2e871b-5996-48d7-a89c-eda3811976ab",
   "metadata": {},
   "source": [
    "산점도"
   ]
  },
  {
   "cell_type": "code",
   "execution_count": null,
   "id": "cbc59413-0041-4c77-a161-9696ff9ae129",
   "metadata": {},
   "outputs": [],
   "source": [
    "import matplotlib.pyplot as plt\n",
    "\n",
    "fig, axes = plt.subplots(3, 3, figsize=(15, 10))\n",
    "\n",
    "axes[0, 0].scatter(df['curbweight'], df['price'])\n",
    "axes[0, 0].set_title('curbweight by Price')\n",
    "axes[0, 1].scatter(df['horsepower'], df['price'])\n",
    "axes[0, 1].set_title('horsepower by Price')\n",
    "axes[0, 2].scatter(df['enginesize'], df['price'])\n",
    "axes[0, 2].set_title('enginesize by Price')\n",
    "axes[1, 0].scatter(df['carwidth'], df['price'])\n",
    "axes[1, 0].set_title('carwidth by Price')\n",
    "axes[1, 1].scatter(df['carlength'], df['price'])\n",
    "axes[1, 1].set_title('carlength by Price')\n",
    "axes[1, 2].scatter(df['boreratio'], df['price'])\n",
    "axes[1, 2].set_title('boreratio by Price')\n",
    "axes[2, 0].scatter(df['wheelbase'], df['price'])\n",
    "axes[2, 0].set_title('wheelbase by Price')\n",
    "axes[2, 1].scatter(df['highwaympg'], df['price'])\n",
    "axes[2, 1].set_title('highwaympg by Price')\n",
    "axes[2, 2].scatter(df['citympg'], df['price'])\n",
    "axes[2, 2].set_title('citympg by Price')\n",
    "\n",
    "\n",
    "plt.show()"
   ]
  },
  {
   "cell_type": "code",
   "execution_count": null,
   "id": "6c15905e-b64a-475b-9899-ad95ad10a535",
   "metadata": {},
   "outputs": [],
   "source": []
  },
  {
   "cell_type": "code",
   "execution_count": null,
   "id": "eaeb09b5-3c7f-4f89-aae8-1e50c1159ba4",
   "metadata": {},
   "outputs": [],
   "source": []
  },
  {
   "cell_type": "code",
   "execution_count": null,
   "id": "fc211b14-6ae6-417f-83ec-58e5b2167cf0",
   "metadata": {},
   "outputs": [],
   "source": []
  },
  {
   "cell_type": "code",
   "execution_count": null,
   "id": "f3707184-f1ed-4b16-9349-3887bdd3bbd5",
   "metadata": {},
   "outputs": [],
   "source": []
  },
  {
   "cell_type": "code",
   "execution_count": null,
   "id": "d4b755d7-21ad-4026-84aa-8b3066fa7b12",
   "metadata": {},
   "outputs": [],
   "source": []
  },
  {
   "cell_type": "code",
   "execution_count": null,
   "id": "ea95898c-95d6-4e29-9e8f-df59f3c937ef",
   "metadata": {},
   "outputs": [],
   "source": [
    "count_zero_fare = (pre_df['distance_km'] == 0).sum()\n",
    "print(\"distance_km 0인 행의 개수:\", count_zero_fare)"
   ]
  },
  {
   "cell_type": "code",
   "execution_count": null,
   "id": "97bb70dd-77a1-428f-847e-a653fd249014",
   "metadata": {},
   "outputs": [],
   "source": [
    "pre_df = pre_df[pre_df['distance_km'] > 0]\n",
    "pre_df = pre_df.reset_index(drop=True)\n",
    "pre_df"
   ]
  },
  {
   "cell_type": "code",
   "execution_count": null,
   "id": "a34fe77f-6d94-4ead-901b-1ed6a44c11c8",
   "metadata": {},
   "outputs": [],
   "source": []
  }
 ],
 "metadata": {
  "kernelspec": {
   "display_name": "Python 3 (ipykernel)",
   "language": "python",
   "name": "python3"
  },
  "language_info": {
   "codemirror_mode": {
    "name": "ipython",
    "version": 3
   },
   "file_extension": ".py",
   "mimetype": "text/x-python",
   "name": "python",
   "nbconvert_exporter": "python",
   "pygments_lexer": "ipython3",
   "version": "3.11.8"
  }
 },
 "nbformat": 4,
 "nbformat_minor": 5
}
