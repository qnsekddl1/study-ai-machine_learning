{
 "cells": [
  {
   "cell_type": "markdown",
   "id": "12f70c8f-55c0-43b2-86bb-b01f4746d73d",
   "metadata": {},
   "source": [
    "### OLS Task02\n",
    "\n",
    "#### 한국 아파트 가격 예측\n",
    "https://drive.google.com/file/d/1v3eNjo3TjTgUPlq6Uw_v_oEQ8sVjaItw/view?usp=share_link"
   ]
  },
  {
   "cell_type": "code",
   "execution_count": 1,
   "id": "172b4efd-846a-486b-9dba-885b9f49abe0",
   "metadata": {},
   "outputs": [],
   "source": [
    "# import chardet\n",
    "\n",
    "# rawdata = open('./datasets/korean_apart.csv', 'rb').read()\n",
    "# result = chardet.detect(rawdata)\n",
    "# result"
   ]
  },
  {
   "cell_type": "code",
   "execution_count": 2,
   "id": "7ffcc7f1-f8e2-457a-ac5b-e824bcb35cf4",
   "metadata": {},
   "outputs": [
    {
     "data": {
      "text/html": [
       "<div>\n",
       "<style scoped>\n",
       "    .dataframe tbody tr th:only-of-type {\n",
       "        vertical-align: middle;\n",
       "    }\n",
       "\n",
       "    .dataframe tbody tr th {\n",
       "        vertical-align: top;\n",
       "    }\n",
       "\n",
       "    .dataframe thead th {\n",
       "        text-align: right;\n",
       "    }\n",
       "</style>\n",
       "<table border=\"1\" class=\"dataframe\">\n",
       "  <thead>\n",
       "    <tr style=\"text-align: right;\">\n",
       "      <th></th>\n",
       "      <th>지역코드</th>\n",
       "      <th>동</th>\n",
       "      <th>거래일</th>\n",
       "      <th>아파트</th>\n",
       "      <th>지번</th>\n",
       "      <th>전용면적</th>\n",
       "      <th>층</th>\n",
       "      <th>건축년도</th>\n",
       "      <th>거래금액</th>\n",
       "    </tr>\n",
       "  </thead>\n",
       "  <tbody>\n",
       "    <tr>\n",
       "      <th>0</th>\n",
       "      <td>31110.0</td>\n",
       "      <td>학성동</td>\n",
       "      <td>5/30/2020 0:00</td>\n",
       "      <td>남운학성타운</td>\n",
       "      <td>379</td>\n",
       "      <td>135.5800</td>\n",
       "      <td>8</td>\n",
       "      <td>1991.0</td>\n",
       "      <td>26700</td>\n",
       "    </tr>\n",
       "    <tr>\n",
       "      <th>1</th>\n",
       "      <td>31110.0</td>\n",
       "      <td>남외동</td>\n",
       "      <td>1/3/2020 0:00</td>\n",
       "      <td>남외푸르지오1차</td>\n",
       "      <td>506-1</td>\n",
       "      <td>101.6000</td>\n",
       "      <td>2</td>\n",
       "      <td>2006.0</td>\n",
       "      <td>35500</td>\n",
       "    </tr>\n",
       "    <tr>\n",
       "      <th>2</th>\n",
       "      <td>31110.0</td>\n",
       "      <td>남외동</td>\n",
       "      <td>1/3/2020 0:00</td>\n",
       "      <td>에일린의뜰</td>\n",
       "      <td>500</td>\n",
       "      <td>84.9920</td>\n",
       "      <td>11</td>\n",
       "      <td>2007.0</td>\n",
       "      <td>36500</td>\n",
       "    </tr>\n",
       "    <tr>\n",
       "      <th>3</th>\n",
       "      <td>31110.0</td>\n",
       "      <td>남외동</td>\n",
       "      <td>1/3/2020 0:00</td>\n",
       "      <td>남외푸르지오1차</td>\n",
       "      <td>506-1</td>\n",
       "      <td>118.7060</td>\n",
       "      <td>8</td>\n",
       "      <td>2006.0</td>\n",
       "      <td>43000</td>\n",
       "    </tr>\n",
       "    <tr>\n",
       "      <th>4</th>\n",
       "      <td>31110.0</td>\n",
       "      <td>남외동</td>\n",
       "      <td>1/4/2020 0:00</td>\n",
       "      <td>남외푸르지오2차</td>\n",
       "      <td>501-1</td>\n",
       "      <td>84.9636</td>\n",
       "      <td>7</td>\n",
       "      <td>2007.0</td>\n",
       "      <td>38700</td>\n",
       "    </tr>\n",
       "    <tr>\n",
       "      <th>...</th>\n",
       "      <td>...</td>\n",
       "      <td>...</td>\n",
       "      <td>...</td>\n",
       "      <td>...</td>\n",
       "      <td>...</td>\n",
       "      <td>...</td>\n",
       "      <td>...</td>\n",
       "      <td>...</td>\n",
       "      <td>...</td>\n",
       "    </tr>\n",
       "    <tr>\n",
       "      <th>5002834</th>\n",
       "      <td>50130.0</td>\n",
       "      <td>대정읍 하모리</td>\n",
       "      <td>2023-06-29 00:00:00</td>\n",
       "      <td>더그라벨아파트</td>\n",
       "      <td>1221-1</td>\n",
       "      <td>57.1300</td>\n",
       "      <td>6</td>\n",
       "      <td>2019.0</td>\n",
       "      <td>19,500</td>\n",
       "    </tr>\n",
       "    <tr>\n",
       "      <th>5002835</th>\n",
       "      <td>50130.0</td>\n",
       "      <td>동홍동</td>\n",
       "      <td>2023-07-04 00:00:00</td>\n",
       "      <td>주공5차(동홍5차)</td>\n",
       "      <td>1674</td>\n",
       "      <td>49.8700</td>\n",
       "      <td>2</td>\n",
       "      <td>1999.0</td>\n",
       "      <td>21,700</td>\n",
       "    </tr>\n",
       "    <tr>\n",
       "      <th>5002836</th>\n",
       "      <td>50130.0</td>\n",
       "      <td>서홍동</td>\n",
       "      <td>2023-07-04 00:00:00</td>\n",
       "      <td>서홍반석타운</td>\n",
       "      <td>2004-1</td>\n",
       "      <td>45.3100</td>\n",
       "      <td>1</td>\n",
       "      <td>2000.0</td>\n",
       "      <td>9,300</td>\n",
       "    </tr>\n",
       "    <tr>\n",
       "      <th>5002837</th>\n",
       "      <td>50130.0</td>\n",
       "      <td>중문동</td>\n",
       "      <td>2023-07-01 00:00:00</td>\n",
       "      <td>중문푸른마을</td>\n",
       "      <td>1789</td>\n",
       "      <td>51.8800</td>\n",
       "      <td>2</td>\n",
       "      <td>2003.0</td>\n",
       "      <td>25,500</td>\n",
       "    </tr>\n",
       "    <tr>\n",
       "      <th>5002838</th>\n",
       "      <td>50130.0</td>\n",
       "      <td>중문동</td>\n",
       "      <td>2023-07-01 00:00:00</td>\n",
       "      <td>e편한세상중문</td>\n",
       "      <td>1726</td>\n",
       "      <td>84.9875</td>\n",
       "      <td>5</td>\n",
       "      <td>2021.0</td>\n",
       "      <td>52,500</td>\n",
       "    </tr>\n",
       "  </tbody>\n",
       "</table>\n",
       "<p>5002839 rows × 9 columns</p>\n",
       "</div>"
      ],
      "text/plain": [
       "            지역코드        동                  거래일         아파트      지번      전용면적  \\\n",
       "0        31110.0      학성동       5/30/2020 0:00      남운학성타운     379  135.5800   \n",
       "1        31110.0      남외동        1/3/2020 0:00    남외푸르지오1차   506-1  101.6000   \n",
       "2        31110.0      남외동        1/3/2020 0:00       에일린의뜰     500   84.9920   \n",
       "3        31110.0      남외동        1/3/2020 0:00    남외푸르지오1차   506-1  118.7060   \n",
       "4        31110.0      남외동        1/4/2020 0:00    남외푸르지오2차   501-1   84.9636   \n",
       "...          ...      ...                  ...         ...     ...       ...   \n",
       "5002834  50130.0  대정읍 하모리  2023-06-29 00:00:00     더그라벨아파트  1221-1   57.1300   \n",
       "5002835  50130.0      동홍동  2023-07-04 00:00:00  주공5차(동홍5차)    1674   49.8700   \n",
       "5002836  50130.0      서홍동  2023-07-04 00:00:00      서홍반석타운  2004-1   45.3100   \n",
       "5002837  50130.0      중문동  2023-07-01 00:00:00      중문푸른마을    1789   51.8800   \n",
       "5002838  50130.0      중문동  2023-07-01 00:00:00     e편한세상중문    1726   84.9875   \n",
       "\n",
       "          층    건축년도    거래금액  \n",
       "0         8  1991.0   26700  \n",
       "1         2  2006.0   35500  \n",
       "2        11  2007.0   36500  \n",
       "3         8  2006.0   43000  \n",
       "4         7  2007.0   38700  \n",
       "...      ..     ...     ...  \n",
       "5002834   6  2019.0  19,500  \n",
       "5002835   2  1999.0  21,700  \n",
       "5002836   1  2000.0   9,300  \n",
       "5002837   2  2003.0  25,500  \n",
       "5002838   5  2021.0  52,500  \n",
       "\n",
       "[5002839 rows x 9 columns]"
      ]
     },
     "execution_count": 2,
     "metadata": {},
     "output_type": "execute_result"
    }
   ],
   "source": [
    "import numpy as np\n",
    "import pandas as pd\n",
    "\n",
    "a_df = pd.read_csv('./datasets/korean_apart.csv', low_memory=False)\n",
    "a_df"
   ]
  },
  {
   "cell_type": "code",
   "execution_count": 3,
   "id": "b4f82e66-0cb8-4890-bac8-8e4f83b304e6",
   "metadata": {},
   "outputs": [
    {
     "name": "stdout",
     "output_type": "stream",
     "text": [
      "<class 'pandas.core.frame.DataFrame'>\n",
      "RangeIndex: 5002839 entries, 0 to 5002838\n",
      "Data columns (total 9 columns):\n",
      " #   Column  Dtype  \n",
      "---  ------  -----  \n",
      " 0   지역코드    float64\n",
      " 1   동       object \n",
      " 2   거래일     object \n",
      " 3   아파트     object \n",
      " 4   지번      object \n",
      " 5   전용면적    float64\n",
      " 6   층       object \n",
      " 7   건축년도    float64\n",
      " 8   거래금액    object \n",
      "dtypes: float64(3), object(6)\n",
      "memory usage: 343.5+ MB\n"
     ]
    }
   ],
   "source": [
    "a_df.info()"
   ]
  },
  {
   "cell_type": "code",
   "execution_count": 4,
   "id": "3546f631-dd4b-4e8f-b1e1-ec5ed0064809",
   "metadata": {},
   "outputs": [
    {
     "data": {
      "text/plain": [
       "지역코드\n",
       "41590.0    112712\n",
       "41360.0     86199\n",
       "41190.0     80877\n",
       "41570.0     67517\n",
       "44133.0     64606\n",
       "            ...  \n",
       "45740.0       286\n",
       "47720.0       260\n",
       "47760.0       134\n",
       "47940.0        36\n",
       "46910.0         9\n",
       "Name: count, Length: 249, dtype: int64"
      ]
     },
     "execution_count": 4,
     "metadata": {},
     "output_type": "execute_result"
    }
   ],
   "source": [
    "a_df.value_counts('지역코드')"
   ]
  },
  {
   "cell_type": "code",
   "execution_count": 5,
   "id": "d2baa431-4f04-4885-8b29-47a1d35fbbda",
   "metadata": {},
   "outputs": [
    {
     "data": {
      "text/plain": [
       "동\n",
       "중동         52072\n",
       "정자동        25149\n",
       "상동         24889\n",
       "신정동        24504\n",
       "상계동        24230\n",
       "           ...  \n",
       "다가동3가          1\n",
       "오산면 장신리        1\n",
       "적성면 마지리        1\n",
       "화영동            1\n",
       "하성면 마곡리        1\n",
       "Name: count, Length: 3214, dtype: int64"
      ]
     },
     "execution_count": 5,
     "metadata": {},
     "output_type": "execute_result"
    }
   ],
   "source": [
    "a_df.value_counts('동')"
   ]
  },
  {
   "cell_type": "code",
   "execution_count": 6,
   "id": "f3f90e6d-62dd-4322-addf-872a76f9361d",
   "metadata": {},
   "outputs": [
    {
     "data": {
      "text/plain": [
       "거래일\n",
       "2020-06-13 00:00:00    6231\n",
       "2020-06-16 00:00:00    5885\n",
       "2020-02-15 00:00:00    4997\n",
       "2020-06-15 00:00:00    4939\n",
       "2020-07-04 00:00:00    4828\n",
       "                       ... \n",
       "2019-04-26                1\n",
       "12/18/2018                1\n",
       "2016-05-26                1\n",
       "2019-04-23                1\n",
       "2017-08-07                1\n",
       "Name: count, Length: 5848, dtype: int64"
      ]
     },
     "execution_count": 6,
     "metadata": {},
     "output_type": "execute_result"
    }
   ],
   "source": [
    "a_df.value_counts('거래일')"
   ]
  },
  {
   "cell_type": "code",
   "execution_count": 7,
   "id": "d6ed9bbc-3cce-4c83-885d-f9d2ced7f5f6",
   "metadata": {},
   "outputs": [
    {
     "data": {
      "text/plain": [
       "건축년도\n",
       "1997.0    210693\n",
       "1994.0    201068\n",
       "1998.0    200031\n",
       "1995.0    196195\n",
       "2004.0    195554\n",
       "           ...  \n",
       "1968.0       144\n",
       "1966.0        34\n",
       "1967.0        29\n",
       "1961.0        26\n",
       "1965.0         5\n",
       "Name: count, Length: 61, dtype: int64"
      ]
     },
     "execution_count": 7,
     "metadata": {},
     "output_type": "execute_result"
    }
   ],
   "source": [
    "a_df.value_counts('건축년도')"
   ]
  },
  {
   "cell_type": "code",
   "execution_count": 8,
   "id": "a21fa308-b2b9-40ff-9d65-e7d5ac795d7d",
   "metadata": {},
   "outputs": [],
   "source": [
    "pre_a_df = a_df.drop_duplicates()"
   ]
  },
  {
   "cell_type": "code",
   "execution_count": 9,
   "id": "111f1edb-06f3-4bdd-8dc9-73a0ed289a56",
   "metadata": {},
   "outputs": [
    {
     "data": {
      "text/plain": [
       "지역코드      0\n",
       "동         0\n",
       "거래일       0\n",
       "아파트       0\n",
       "지번      428\n",
       "전용면적      0\n",
       "층         0\n",
       "건축년도     47\n",
       "거래금액      0\n",
       "dtype: int64"
      ]
     },
     "execution_count": 9,
     "metadata": {},
     "output_type": "execute_result"
    }
   ],
   "source": [
    "pre_a_df.isna().sum()"
   ]
  },
  {
   "cell_type": "code",
   "execution_count": null,
   "id": "20cdd998-b769-410a-94b6-814990a78998",
   "metadata": {},
   "outputs": [],
   "source": []
  },
  {
   "cell_type": "code",
   "execution_count": null,
   "id": "2f830e61-cb26-428e-b555-66bce10b8670",
   "metadata": {},
   "outputs": [],
   "source": []
  },
  {
   "cell_type": "code",
   "execution_count": null,
   "id": "4b7b03bd-74f4-408d-b45e-363c228ff3c3",
   "metadata": {},
   "outputs": [],
   "source": []
  },
  {
   "cell_type": "code",
   "execution_count": null,
   "id": "7921ac94-53b9-4ad4-897e-081ed802228d",
   "metadata": {},
   "outputs": [],
   "source": []
  },
  {
   "cell_type": "code",
   "execution_count": null,
   "id": "920665da-1b86-4f8c-8c17-299501bff8cd",
   "metadata": {},
   "outputs": [],
   "source": []
  },
  {
   "cell_type": "code",
   "execution_count": null,
   "id": "8e6af10d-8186-42de-9d7c-4eafd55c4c4a",
   "metadata": {},
   "outputs": [],
   "source": []
  },
  {
   "cell_type": "code",
   "execution_count": null,
   "id": "b6940c2b-20ba-4ad7-9e10-6ad13bd819f5",
   "metadata": {},
   "outputs": [],
   "source": []
  },
  {
   "cell_type": "code",
   "execution_count": null,
   "id": "ffdf9ae7-32cb-48cc-92e6-fa46dc2e951c",
   "metadata": {},
   "outputs": [],
   "source": []
  },
  {
   "cell_type": "code",
   "execution_count": null,
   "id": "aac1b772-7e02-4fb8-994e-3a1ab5ba36b9",
   "metadata": {},
   "outputs": [],
   "source": []
  },
  {
   "cell_type": "code",
   "execution_count": null,
   "id": "703c287b-ddf9-431f-848b-dc8afe50a9ec",
   "metadata": {},
   "outputs": [],
   "source": []
  },
  {
   "cell_type": "code",
   "execution_count": null,
   "id": "229a1b16-6626-4043-9d89-2c8f58562104",
   "metadata": {},
   "outputs": [],
   "source": []
  },
  {
   "cell_type": "code",
   "execution_count": null,
   "id": "7866cd26-aa26-4e52-a4d0-926c26dc92f1",
   "metadata": {},
   "outputs": [],
   "source": []
  },
  {
   "cell_type": "code",
   "execution_count": null,
   "id": "4ae98cb7-867a-44ba-9730-bc66e667a628",
   "metadata": {},
   "outputs": [],
   "source": []
  },
  {
   "cell_type": "code",
   "execution_count": null,
   "id": "a44b0716-0bd4-486d-8d38-0e14d68aeff5",
   "metadata": {},
   "outputs": [],
   "source": []
  },
  {
   "cell_type": "code",
   "execution_count": null,
   "id": "f423762e-d0c5-406b-9c91-892eb9340785",
   "metadata": {},
   "outputs": [],
   "source": []
  },
  {
   "cell_type": "code",
   "execution_count": null,
   "id": "dd25fe9d-d78f-4cb1-be37-86ba5dec256f",
   "metadata": {},
   "outputs": [],
   "source": []
  }
 ],
 "metadata": {
  "kernelspec": {
   "display_name": "Python 3 (ipykernel)",
   "language": "python",
   "name": "python3"
  },
  "language_info": {
   "codemirror_mode": {
    "name": "ipython",
    "version": 3
   },
   "file_extension": ".py",
   "mimetype": "text/x-python",
   "name": "python",
   "nbconvert_exporter": "python",
   "pygments_lexer": "ipython3",
   "version": "3.11.8"
  }
 },
 "nbformat": 4,
 "nbformat_minor": 5
}
