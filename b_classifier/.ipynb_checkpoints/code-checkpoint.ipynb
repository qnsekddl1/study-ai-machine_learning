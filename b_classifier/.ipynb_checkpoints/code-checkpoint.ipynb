{
 "cells": [
  {
   "cell_type": "markdown",
   "id": "fc9a23d6-09fb-48cd-ba2b-ce8d72d94aec",
   "metadata": {},
   "source": [
    "임계치 조정 후 코드"
   ]
  },
  {
   "cell_type": "code",
   "execution_count": null,
   "id": "90c839c1-f302-4ca0-a7d5-38e2ddc1137a",
   "metadata": {},
   "outputs": [],
   "source": [
    "proba_class1 = dtc.predict_proba(X_test)[:, 1].reshape(-1, 1)\n",
    "_, _, thresholds = precision_recall_curve(y_test, proba_class1)\n",
    "thresholds"
   ]
  },
  {
   "cell_type": "code",
   "execution_count": null,
   "id": "65ee3a3c-2ca3-4a91-bb67-f9f1dccce0c8",
   "metadata": {},
   "outputs": [],
   "source": [
    "get_evaluation_by_thresholds(y_test, proba_class1, thresholds)"
   ]
  },
  {
   "cell_type": "code",
   "execution_count": 2,
   "id": "5e056e4e-16da-49c4-b71c-962a764063f2",
   "metadata": {},
   "outputs": [],
   "source": [
    "from sklearn.metrics import accuracy_score, precision_score, recall_score, f1_score, roc_auc_score, confusion_matrix, ConfusionMatrixDisplay\n",
    "\n",
    "# 타겟 데이터와 예측 객체를 전달받는다.\n",
    "def get_evaluation_by_custom_proba(y_test, prediction, visualize=False):\n",
    "#     오차 행렬\n",
    "    confusion = confusion_matrix(y_test, prediction)\n",
    "#     정확도\n",
    "    accuracy = accuracy_score(y_test , prediction)\n",
    "#     정밀도\n",
    "    precision = precision_score(y_test , prediction)\n",
    "#     재현율\n",
    "    recall = recall_score(y_test , prediction)\n",
    "#     F1 score\n",
    "    f1 = f1_score(y_test, prediction)\n",
    "#     ROC-AUC\n",
    "    roc_auc = roc_auc_score(y_test, prediction)\n",
    "    \n",
    "    print('오차 행렬')\n",
    "    print(confusion)\n",
    "    print('정확도: {0:.4f}, 정밀도: {1:.4f}, 재현율: {2:.4f}, F1: {3:.4f}, ROC-AUC: {4:.4f}'.format(accuracy, precision, recall, f1, roc_auc))\n",
    "    print(\"#\" * 80)\n",
    "    \n",
    "    if visualize:\n",
    "        fig, axes = plt.subplots(nrows=1, ncols=2, figsize=(8,4))\n",
    "        titles_options = [(\"Confusion matrix\", None), (\"Normalized confusion matrix\", \"true\")]\n",
    "\n",
    "        for (title, normalize), ax in zip(titles_options, axes.flatten()):\n",
    "            disp = ConfusionMatrixDisplay.from_predictions(y_test, prediction, ax=ax, cmap=plt.cm.Blues, normalize=normalize)\n",
    "            disp.ax_.set_title(title)\n",
    "        plt.show()"
   ]
  },
  {
   "cell_type": "code",
   "execution_count": null,
   "id": "7fdeace0-ea77-4fd4-a431-b263fce33740",
   "metadata": {},
   "outputs": [],
   "source": [
    "from sklearn.preprocessing import Binarizer\n",
    "\n",
    "threshold = 0.6301435193085556\n",
    "\n",
    "proba = svc.predict_proba(X_test)\n",
    "prediction = svc.predict(X_test)\n",
    "svc_ac = round(accuracy_score(y_test , custom_prediction), 4)\n",
    "svc_pr = round(precision_score(y_test , custom_prediction), 4)\n",
    "svc_rc = round(recall_score(y_test , custom_prediction), 4)\n",
    "svc_f1 = round(f1_score(y_test , custom_prediction), 4)\n",
    "svc_rac = round(roc_auc_score(y_test , custom_prediction), 4)"
   ]
  },
  {
   "cell_type": "code",
   "execution_count": null,
   "id": "adfaded5-fb0a-4dee-9b47-265024f93139",
   "metadata": {},
   "outputs": [],
   "source": [
    "custom_proba = proba[:, 1].reshape(-1, 1)\n",
    "binarizer = Binarizer(threshold=threshold).fit(custom_proba)\n",
    "custom_prediction = binarizer.transform(custom_proba)\n",
    "\n",
    "get_evaluation_by_custom_proba(y_test, custom_prediction, visualize=True)"
   ]
  },
  {
   "cell_type": "code",
   "execution_count": null,
   "id": "8e786384-5486-4c62-b8e2-1ec834ffcd3d",
   "metadata": {},
   "outputs": [],
   "source": [
    "from sklearn.metrics import precision_recall_curve\n",
    "import matplotlib.pyplot as plt\n",
    "import matplotlib.ticker as ticker\n",
    "\n",
    "def precision_recall_curve_plot(y_test , proba_class1):\n",
    "\n",
    "    precisions, recalls, thresholds = precision_recall_curve(y_test, proba_class1)\n",
    "    \n",
    "    plt.figure(figsize=(8,6))\n",
    "    threshold_boundary = thresholds.shape[0]\n",
    "    plt.plot(thresholds, precisions[0:threshold_boundary], linestyle='--', label='precision')\n",
    "    plt.plot(thresholds, recalls[0:threshold_boundary],label='recall')\n",
    "    \n",
    "    # X축(threshold)의 Scale을 0 ~ 1 단위로 변경\n",
    "    start, end = plt.xlim()\n",
    "    plt.xticks(np.round(np.arange(start, end, 0.1),2))\n",
    "    \n",
    "    plt.xlabel('Threshold value'); plt.ylabel('Precision and Recall value')\n",
    "    plt.legend()\n",
    "    plt.grid()\n",
    "    plt.show()\n",
    "    \n",
    "precision_recall_curve_plot(y_test, custom_prediction)"
   ]
  },
  {
   "cell_type": "code",
   "execution_count": null,
   "id": "dacea384-0179-4c69-91b1-e478fa8edc3b",
   "metadata": {},
   "outputs": [],
   "source": [
    "roc_curve_plot(y_test, custom_prediction)"
   ]
  },
  {
   "cell_type": "code",
   "execution_count": null,
   "id": "0d7b8c25-b397-4b07-99db-003061b72c52",
   "metadata": {},
   "outputs": [],
   "source": []
  },
  {
   "cell_type": "code",
   "execution_count": null,
   "id": "5e2d29d6-f2f7-4b77-a029-c12ad38d4ba0",
   "metadata": {},
   "outputs": [],
   "source": []
  },
  {
   "cell_type": "code",
   "execution_count": null,
   "id": "c4d424db-4a2b-4a87-a517-dba66b7ffcb2",
   "metadata": {},
   "outputs": [],
   "source": []
  },
  {
   "cell_type": "code",
   "execution_count": null,
   "id": "3023257a-bdfe-4601-882f-a42de4424a0a",
   "metadata": {},
   "outputs": [],
   "source": []
  }
 ],
 "metadata": {
  "kernelspec": {
   "display_name": "Python 3 (ipykernel)",
   "language": "python",
   "name": "python3"
  },
  "language_info": {
   "codemirror_mode": {
    "name": "ipython",
    "version": 3
   },
   "file_extension": ".py",
   "mimetype": "text/x-python",
   "name": "python",
   "nbconvert_exporter": "python",
   "pygments_lexer": "ipython3",
   "version": "3.11.8"
  }
 },
 "nbformat": 4,
 "nbformat_minor": 5
}
